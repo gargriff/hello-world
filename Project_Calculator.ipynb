{
  "nbformat": 4,
  "nbformat_minor": 0,
  "metadata": {
    "colab": {
      "name": "Project Calculator.ipynb",
      "provenance": [],
      "authorship_tag": "ABX9TyO6JoR/1JoeM/QWat5s6TaI",
      "include_colab_link": true
    },
    "kernelspec": {
      "name": "python3",
      "display_name": "Python 3"
    },
    "language_info": {
      "name": "python"
    }
  },
  "cells": [
    {
      "cell_type": "markdown",
      "metadata": {
        "id": "view-in-github",
        "colab_type": "text"
      },
      "source": [
        "<a href=\"https://colab.research.google.com/github/gargriff/hello-world/blob/main/Project_Calculator.ipynb\" target=\"_parent\"><img src=\"https://colab.research.google.com/assets/colab-badge.svg\" alt=\"Open In Colab\"/></a>"
      ]
    },
    {
      "cell_type": "code",
      "metadata": {
        "colab": {
          "base_uri": "https://localhost:8080/"
        },
        "id": "bQe1Dm2LAGSa",
        "outputId": "9cd26843-a38a-4e02-cbdb-0fe6463c65cd"
      },
      "source": [
        "import numpy as np\n",
        "\n",
        "def calculate(list):\n",
        "  # check whether list contains 9 elements\n",
        "  if len(list) == 9:\n",
        "    #convert list into numpy array and reshape from 9 x 1 to 3 x 3 array\n",
        "    array=np.asarray(list).reshape((3,3))\n",
        "    calculations = {\n",
        "          'mean': [np.mean(array, axis=0).tolist(),np.mean(array, axis=1).tolist(),np.mean(array)],\n",
        "          'variance': [np.var(array, axis=0).tolist(),np.var(array, axis=1).tolist(),np.var(array)],\n",
        "          'standard deviation':[np.std(array, axis=0).tolist(),np.std(array, axis=1).tolist(),np.std(array)],\n",
        "          'max': [np.max(array, axis=0).tolist(),np.max(array, axis=1).tolist(),np.max(array)],\n",
        "          'min': [np.min(array, axis=0).tolist(),np.min(array, axis=1).tolist(),np.min(array)],\n",
        "          'sum': [np.sum(array, axis=0).tolist(),np.sum(array, axis=1).tolist(),np.sum(array)]\n",
        "          }\n",
        "    return calculations\n",
        "  else :\n",
        "   raise ValueError('List must contain nine numbers.')\n",
        "    \n",
        "calculate([2,6,2,8,4,0,1,5,9])"
      ],
      "execution_count": 62,
      "outputs": [
        {
          "output_type": "execute_result",
          "data": {
            "text/plain": [
              "{'max': [[8, 6, 9], [6, 8, 9], 9],\n",
              " 'mean': [[3.6666666666666665, 5.0, 3.6666666666666665],\n",
              "  [3.3333333333333335, 4.0, 5.0],\n",
              "  4.111111111111111],\n",
              " 'min': [[1, 4, 0], [2, 0, 1], 0],\n",
              " 'standard deviation': [[3.091206165165235,\n",
              "   0.816496580927726,\n",
              "   3.8586123009300755],\n",
              "  [1.8856180831641267, 3.265986323710904, 3.265986323710904],\n",
              "  2.960647243216495],\n",
              " 'sum': [[11, 15, 11], [10, 12, 15], 37],\n",
              " 'variance': [[9.555555555555557, 0.6666666666666666, 14.888888888888891],\n",
              "  [3.555555555555556, 10.666666666666666, 10.666666666666666],\n",
              "  8.765432098765432]}"
            ]
          },
          "metadata": {},
          "execution_count": 62
        }
      ]
    },
    {
      "cell_type": "code",
      "metadata": {
        "id": "-dzBCrwwUoi8"
      },
      "source": [
        ""
      ],
      "execution_count": null,
      "outputs": []
    }
  ]
}